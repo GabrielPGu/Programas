{
  "nbformat": 4,
  "nbformat_minor": 0,
  "metadata": {
    "colab": {
      "provenance": [],
      "authorship_tag": "ABX9TyMcmuBsKV4tLvBbC1Cec2EW",
      "include_colab_link": true
    },
    "kernelspec": {
      "name": "python3",
      "display_name": "Python 3"
    },
    "language_info": {
      "name": "python"
    }
  },
  "cells": [
    {
      "cell_type": "markdown",
      "metadata": {
        "id": "view-in-github",
        "colab_type": "text"
      },
      "source": [
        "<a href=\"https://colab.research.google.com/github/GabrielPGu/Programas/blob/main/Cin%C3%A9tica_Molecular.ipynb\" target=\"_parent\"><img src=\"https://colab.research.google.com/assets/colab-badge.svg\" alt=\"Open In Colab\"/></a>"
      ]
    },
    {
      "cell_type": "markdown",
      "source": [
        "# **Cinética Química**"
      ],
      "metadata": {
        "id": "N1BFKQBwTUGN"
      }
    },
    {
      "cell_type": "markdown",
      "source": [
        "Determinar la energía de activación para la reacción de isomerización (estudio cinético) e indicar si la reacción es endotérmica o exotérmica (estudio termodinámico):"
      ],
      "metadata": {
        "id": "Xkx0SpFhTT5N"
      }
    },
    {
      "cell_type": "markdown",
      "source": [
        "## **Cis_buteno:**"
      ],
      "metadata": {
        "id": "us4kzk7ZVERG"
      }
    },
    {
      "cell_type": "code",
      "execution_count": null,
      "metadata": {
        "id": "YQuOOmiOTMQi"
      },
      "outputs": [],
      "source": [
        "! pip install rdkit\n",
        "! pip install pyscf"
      ]
    },
    {
      "cell_type": "code",
      "source": [
        "from rdkit import Chem\n",
        "from rdkit.Chem import Draw\n",
        "from rdkit.Chem import AllChem\n",
        "from rdkit.Chem.Draw import IPythonConsole\n",
        "IPythonConsole.drawOptions.addAtomIndices = True"
      ],
      "metadata": {
        "id": "9qQWQ-2PT-eM"
      },
      "execution_count": 4,
      "outputs": []
    },
    {
      "cell_type": "code",
      "source": [
        "from pyscf import gto, scf"
      ],
      "metadata": {
        "id": "bMDuzu_DYJ6O"
      },
      "execution_count": 21,
      "outputs": []
    },
    {
      "cell_type": "code",
      "source": [
        "import numpy as np\n"
      ],
      "metadata": {
        "id": "6p1XVmxwnIU8"
      },
      "execution_count": 101,
      "outputs": []
    },
    {
      "cell_type": "code",
      "source": [
        "smiles = \"F\\C=C/C\"\n",
        "\n",
        "mol = Chem.MolFromSmiles(smiles)\n",
        "\n",
        "Draw.MolsToGridImage([mol])"
      ],
      "metadata": {
        "colab": {
          "base_uri": "https://localhost:8080/",
          "height": 217
        },
        "id": "e90hoW6oUA69",
        "outputId": "b8b0c885-2341-45cb-9312-ed2ab69a8119"
      },
      "execution_count": 5,
      "outputs": [
        {
          "output_type": "execute_result",
          "data": {
            "image/png": "[encoded data removed]",
            "text/plain": [
              "<IPython.core.display.Image object>"
            ]
          },
          "metadata": {},
          "execution_count": 5
        }
      ]
    },
    {
      "cell_type": "code",
      "source": [
        "mol_h = Chem.AddHs(mol)\n",
        "\n",
        "Draw.MolsToGridImage([mol, mol_h], subImgSize=(300,300))"
      ],
      "metadata": {
        "colab": {
          "base_uri": "https://localhost:8080/",
          "height": 317
        },
        "id": "GD1KHQo4U-El",
        "outputId": "e57b4237-6c30-4e74-f63a-69a2255308b9"
      },
      "execution_count": 9,
      "outputs": [
        {
          "output_type": "execute_result",
          "data": {
            "image/png": "[encoded data removed]",
            "text/plain": [
              "<IPython.core.display.Image object>"
            ]
          },
          "metadata": {},
          "execution_count": 9
        }
      ]
    },
    {
      "cell_type": "code",
      "source": [
        "Chem.AllChem.EmbedMolecule(mol_h)\n",
        "print(Chem.MolToMolBlock(mol_h))"
      ],
      "metadata": {
        "colab": {
          "base_uri": "https://localhost:8080/"
        },
        "id": "auPnzjYoXIHe",
        "outputId": "c81cb6c1-90ed-41b5-8ca6-b5140d553a0d"
      },
      "execution_count": 19,
      "outputs": [
        {
          "output_type": "stream",
          "name": "stdout",
          "text": [
            "\n",
            "     RDKit          3D\n",
            "\n",
            "  9  8  0  0  0  0  0  0  0  0999 V2000\n",
            "    1.0611    1.5861    0.2378 F   0  0  0  0  0  0  0  0  0  0  0  0\n",
            "    1.3046    0.2703    0.1400 C   0  0  0  0  0  0  0  0  0  0  0  0\n",
            "    0.2677   -0.5364   -0.0736 C   0  0  0  0  0  0  0  0  0  0  0  0\n",
            "   -1.1129    0.0064   -0.1990 C   0  0  0  0  0  0  0  0  0  0  0  0\n",
            "    2.3030   -0.1021    0.2327 H   0  0  0  0  0  0  0  0  0  0  0  0\n",
            "    0.4900   -1.5925   -0.1486 H   0  0  0  0  0  0  0  0  0  0  0  0\n",
            "   -1.2447    0.8243    0.5311 H   0  0  0  0  0  0  0  0  0  0  0  0\n",
            "   -1.2668    0.3918   -1.2278 H   0  0  0  0  0  0  0  0  0  0  0  0\n",
            "   -1.8020   -0.8481   -0.0162 H   0  0  0  0  0  0  0  0  0  0  0  0\n",
            "  1  2  1  0\n",
            "  2  3  2  0\n",
            "  3  4  1  0\n",
            "  2  5  1  0\n",
            "  3  6  1  0\n",
            "  4  7  1  0\n",
            "  4  8  1  0\n",
            "  4  9  1  0\n",
            "M  END\n",
            "\n"
          ]
        }
      ]
    },
    {
      "cell_type": "code",
      "source": [
        "Chem.MolToXYZFile(mol_h,\"cis_buteno.xyz\")"
      ],
      "metadata": {
        "id": "JMSCTYG2XZZ1"
      },
      "execution_count": 103,
      "outputs": []
    },
    {
      "cell_type": "code",
      "source": [
        "mol = gto.M(atom=\"cis_buteno.xyz\")"
      ],
      "metadata": {
        "id": "vdg-7ORiYLXt"
      },
      "execution_count": 104,
      "outputs": []
    },
    {
      "cell_type": "code",
      "source": [
        "mol.basis = \"3-21G\"\n",
        "\n",
        "mf = mol.KS()\n",
        "mf.xc = 'b3lyp'"
      ],
      "metadata": {
        "id": "CO_46YnsYUge"
      },
      "execution_count": 105,
      "outputs": []
    },
    {
      "cell_type": "code",
      "source": [
        "mf.kernel()"
      ],
      "metadata": {
        "colab": {
          "base_uri": "https://localhost:8080/"
        },
        "id": "gTzqnV0AYYRe",
        "outputId": "075cf359-9f38-435c-ffa9-5bf3d489ac4a"
      },
      "execution_count": 106,
      "outputs": [
        {
          "output_type": "stream",
          "name": "stdout",
          "text": [
            "converged SCF energy = -214.252409669538\n"
          ]
        },
        {
          "output_type": "execute_result",
          "data": {
            "text/plain": [
              "-214.2524096695381"
            ]
          },
          "metadata": {},
          "execution_count": 106
        }
      ]
    },
    {
      "cell_type": "code",
      "source": [
        "cis = mf.kernel()\n",
        "# Save the kernel\n",
        "np.save(\"cis.npy\", cis)"
      ],
      "metadata": {
        "colab": {
          "base_uri": "https://localhost:8080/"
        },
        "id": "RQqansktnKmu",
        "outputId": "bcf71c2f-021a-482f-a6e8-1ab09cfe1b2b"
      },
      "execution_count": 107,
      "outputs": [
        {
          "output_type": "stream",
          "name": "stdout",
          "text": [
            "converged SCF energy = -214.252409669538\n"
          ]
        }
      ]
    },
    {
      "cell_type": "markdown",
      "source": [
        "## **Trans_buteno:**"
      ],
      "metadata": {
        "id": "zR0CIWGWYgQG"
      }
    },
    {
      "cell_type": "code",
      "source": [
        "smiles = \"F/C=C/C\"\n",
        "\n",
        "mol = Chem.MolFromSmiles(smiles)\n",
        "mol_h = Chem.AddHs(mol)\n",
        "\n",
        "Draw.MolsToGridImage([mol, mol_h], subImgSize=(300,300))"
      ],
      "metadata": {
        "colab": {
          "base_uri": "https://localhost:8080/",
          "height": 317
        },
        "id": "7g4cDaM4YuC-",
        "outputId": "834dd463-4a48-41b7-baa5-8ca898d65bcd"
      },
      "execution_count": 28,
      "outputs": [
        {
          "output_type": "execute_result",
          "data": {
            "image/png": "[encoded data removed]",
            "text/plain": [
              "<IPython.core.display.Image object>"
            ]
          },
          "metadata": {},
          "execution_count": 28
        }
      ]
    },
    {
      "cell_type": "code",
      "source": [
        "Chem.AllChem.EmbedMolecule(mol_h)\n",
        "print(Chem.MolToMolBlock(mol_h))"
      ],
      "metadata": {
        "colab": {
          "base_uri": "https://localhost:8080/"
        },
        "id": "T1yOCBbAY1nn",
        "outputId": "29002a3f-2589-4ce5-b270-a9dd8b1c83a3"
      },
      "execution_count": 112,
      "outputs": [
        {
          "output_type": "stream",
          "name": "stdout",
          "text": [
            "\n",
            "     RDKit          3D\n",
            "\n",
            "  9  8  0  0  0  0  0  0  0  0999 V2000\n",
            "    2.5389   -0.1547   -0.0693 F   0  0  0  0  0  0  0  0  0  0  0  0\n",
            "    1.2696    0.3237    0.1334 C   0  0  0  0  0  0  0  0  0  0  0  0\n",
            "    0.2704   -0.4754   -0.2239 C   0  0  0  0  0  0  0  0  0  0  0  0\n",
            "   -1.1219    0.0477   -0.0023 C   0  0  0  0  0  0  0  0  0  0  0  0\n",
            "    1.0663    1.2942    0.5587 H   0  0  0  0  0  0  0  0  0  0  0  0\n",
            "    0.4265   -1.4606   -0.6561 H   0  0  0  0  0  0  0  0  0  0  0  0\n",
            "   -1.4536   -0.2150    1.0391 H   0  0  0  0  0  0  0  0  0  0  0  0\n",
            "   -1.1816    1.1341   -0.0819 H   0  0  0  0  0  0  0  0  0  0  0  0\n",
            "   -1.8147   -0.4940   -0.6976 H   0  0  0  0  0  0  0  0  0  0  0  0\n",
            "  1  2  1  0\n",
            "  2  3  2  0\n",
            "  3  4  1  0\n",
            "  2  5  1  0\n",
            "  3  6  1  0\n",
            "  4  7  1  0\n",
            "  4  8  1  0\n",
            "  4  9  1  0\n",
            "M  END\n",
            "\n"
          ]
        }
      ]
    },
    {
      "cell_type": "code",
      "source": [
        "Chem.MolToXYZFile(mol_h,\"trans_buteno.xyz\")"
      ],
      "metadata": {
        "id": "2nD2naR9Y7MG"
      },
      "execution_count": 113,
      "outputs": []
    },
    {
      "cell_type": "code",
      "source": [
        "mol2 = gto.M(atom=\"trans_buteno.xyz\")\n"
      ],
      "metadata": {
        "id": "VAQwyOsuZAqm"
      },
      "execution_count": 114,
      "outputs": []
    },
    {
      "cell_type": "code",
      "source": [
        "mol2.basis = \"3-21G\"\n",
        "\n",
        "mf2 = mol2.KS()\n",
        "mf2.xc = 'b3lyp'"
      ],
      "metadata": {
        "id": "sYD9YgaTZUWm"
      },
      "execution_count": 115,
      "outputs": []
    },
    {
      "cell_type": "code",
      "source": [
        "mf2.kernel()"
      ],
      "metadata": {
        "colab": {
          "base_uri": "https://localhost:8080/"
        },
        "id": "pzpYUzYMZWRN",
        "outputId": "88858f3a-6425-4cc6-993c-2bad16b17db3"
      },
      "execution_count": 116,
      "outputs": [
        {
          "output_type": "stream",
          "name": "stdout",
          "text": [
            "converged SCF energy = -214.248924167275\n"
          ]
        },
        {
          "output_type": "execute_result",
          "data": {
            "text/plain": [
              "-214.24892416727477"
            ]
          },
          "metadata": {},
          "execution_count": 116
        }
      ]
    },
    {
      "cell_type": "code",
      "source": [
        "trans = mf2.kernel()\n",
        "# Save the kernel\n",
        "np.save(\"trans.npy\", trans)"
      ],
      "metadata": {
        "colab": {
          "base_uri": "https://localhost:8080/"
        },
        "id": "ks7iCgqxnf7i",
        "outputId": "9e5e1f1a-fc21-4e8f-b881-c2d52df4eeb0"
      },
      "execution_count": 118,
      "outputs": [
        {
          "output_type": "stream",
          "name": "stdout",
          "text": [
            "converged SCF energy = -214.248924167274\n"
          ]
        }
      ]
    },
    {
      "cell_type": "markdown",
      "source": [
        "## **Estado de Transicion:**"
      ],
      "metadata": {
        "id": "Pvsvc3D3Z8uW"
      }
    },
    {
      "cell_type": "code",
      "source": [
        "smiles = \"F\\C=C/C\"\n",
        "mol = Chem.MolFromSmiles(smiles)\n",
        "mol = Chem.AddHs(mol)\n",
        "Chem.AllChem.EmbedMolecule(mol)\n",
        "Chem.MolToXYZFile(mol, \"initial.xyz\")\n",
        "mol"
      ],
      "metadata": {
        "colab": {
          "base_uri": "https://localhost:8080/",
          "height": 167
        },
        "id": "jnkcLi08aBeO",
        "outputId": "44557b65-eea1-4865-e575-6c0aaab0ab16"
      },
      "execution_count": 71,
      "outputs": [
        {
          "output_type": "execute_result",
          "data": {
            "text/plain": [
              "<rdkit.Chem.rdchem.Mol at 0x7e5e6d763450>"
            ],
            "image/png": "[encoded data removed]"
          },
          "metadata": {},
          "execution_count": 71
        }
      ]
    },
    {
      "cell_type": "code",
      "source": [
        "diedros = [0, 30, 60, 90, 120, 150, 180, 210, 240, 270, 300, 330]\n",
        "mol_lista = []\n",
        "for i in diedros:\n",
        "  Chem.AllChem.SetDihedralDeg(mol.GetConformer(0),3,2,1,0,i)\n",
        "\n",
        "  Chem.MolToXYZFile(mol, f\"{i}.xyz\")"
      ],
      "metadata": {
        "id": "3qIqLn3wb4BP"
      },
      "execution_count": 81,
      "outputs": []
    },
    {
      "cell_type": "code",
      "source": [
        "moleculas_diedros = [\"0.xyz\", \"30.xyz\", \"60.xyz\", \"90.xyz\", \"120.xyz\",\n",
        "                    \"150.xyz\", \"180.xyz\", \"240.xyz\", \"300.xyz\", \"330.xyz\"]\n",
        "diedros_lista = []\n",
        "for i in moleculas_diedros:\n",
        "  mol = gto.M(atom=i)\n",
        "  mol.basis = \"3-21G\"\n",
        "  mf = mol.KS()\n",
        "  mf.xc = 'b3lyp'\n",
        "  #mf.kernel()\n",
        "  diedros_lista.append(mf.kernel())"
      ],
      "metadata": {
        "colab": {
          "base_uri": "https://localhost:8080/"
        },
        "id": "sXaw18n1jIip",
        "outputId": "f882d451-17d2-4ed8-8f4e-6375eef55ef4"
      },
      "execution_count": 84,
      "outputs": [
        {
          "output_type": "stream",
          "name": "stdout",
          "text": [
            "converged SCF energy = -214.250604078159\n",
            "converged SCF energy = -214.229473936681\n",
            "converged SCF energy = -214.168898487535\n",
            "converged SCF energy = -214.079538970272\n",
            "converged SCF energy = -214.172237954583\n",
            "converged SCF energy = -214.230915229306\n",
            "converged SCF energy = -214.252409669538\n",
            "converged SCF energy = -214.169025290329\n",
            "converged SCF energy = -214.171578001453\n",
            "converged SCF energy = -214.230595560567\n"
          ]
        }
      ]
    },
    {
      "cell_type": "code",
      "source": [
        "ET = mf2.kernel()\n",
        "# Save the kernel\n",
        "np.save(\"trans.npy\", trans)"
      ],
      "metadata": {
        "id": "ad0EFxHRoGq_"
      },
      "execution_count": null,
      "outputs": []
    },
    {
      "cell_type": "markdown",
      "source": [
        "### **Grafica:**"
      ],
      "metadata": {
        "id": "mowen-p_iyup"
      }
    },
    {
      "cell_type": "code",
      "source": [
        "pip install git+https://github.com/giacomomarchioro/PyEnergyDiagrams"
      ],
      "metadata": {
        "id": "Vc4LUqHTmwvF"
      },
      "execution_count": null,
      "outputs": []
    },
    {
      "cell_type": "code",
      "source": [
        "import matplotlib.pyplot as plt\n",
        "from energydiagram import ED"
      ],
      "metadata": {
        "id": "eUOeXg9YjX_Q"
      },
      "execution_count": 99,
      "outputs": []
    },
    {
      "cell_type": "code",
      "source": [
        "diagram = ED()\n",
        "diagram.add_level(-214.252409669538,'Cis')\n",
        "diagram.add_level(-214.079538970272,'TS',color='g')\n",
        "diagram.add_level(-214.248924167275,'trans')\n",
        "\n",
        "diagram.add_link(0,1)\n",
        "diagram.add_link(1,2)\n",
        "diagram.plot(ylabel=\"Energy / $kcal$ $mol^{-1}$\")"
      ],
      "metadata": {
        "colab": {
          "base_uri": "https://localhost:8080/",
          "height": 393
        },
        "id": "Na6g0femjbBC",
        "outputId": "bcd01284-7293-4696-914f-bbd6f43b585c"
      },
      "execution_count": 121,
      "outputs": [
        {
          "output_type": "display_data",
          "data": {
            "text/plain": [
              "<Figure size 640x480 with 1 Axes>"
            ],
            "image/png": "[encoded data removed]"
          },
          "metadata": {}
        }
      ]
    },
    {
      "cell_type": "code",
      "source": [
        "def calcular_variaciones():\n",
        "  x = -214.248924167275 - (-214.252409669538)\n",
        "  return x\n",
        "def calcular_energia_activacion:\n",
        ""
      ],
      "metadata": {
        "id": "XjIZ37T8pSvW"
      },
      "execution_count": 124,
      "outputs": []
    },
    {
      "cell_type": "code",
      "source": [
        "min_y = min(diedros_lista)\n",
        "max_y = max(diedros_lista)\n",
        "diedros_lista_norm = [(valor - min_y) / (max_y - min_y) for valor in diedros_lista]"
      ],
      "metadata": {
        "id": "V5TQYsnjowZC"
      },
      "execution_count": 122,
      "outputs": []
    },
    {
      "cell_type": "code",
      "source": [
        "import matplotlib.pyplot as plt\n",
        "\n",
        "plt.bar(moleculas_diedros,diedros_lista_norm)\n",
        "plt.xlabel('Diedro')\n",
        "plt.ylabel('Variación de energía')\n",
        "plt.xticks(rotation=90)\n",
        "plt.title('Rotación de diedro vs Energía normalizada')\n",
        "plt.show()"
      ],
      "metadata": {
        "colab": {
          "base_uri": "https://localhost:8080/",
          "height": 513
        },
        "id": "05a4-E3oonsw",
        "outputId": "81acd2a0-9708-4b41-c5e9-8075bbc7400d"
      },
      "execution_count": 123,
      "outputs": [
        {
          "output_type": "display_data",
          "data": {
            "text/plain": [
              "<Figure size 640x480 with 1 Axes>"
            ],
            "image/png": "[encoded data removed]"
          },
          "metadata": {}
        }
      ]
    },
    {
      "cell_type": "markdown",
      "source": [
        "https://dontpad.com/transition_state"
      ],
      "metadata": {
        "id": "oAQgac66opMJ"
      }
    }
  ]
}